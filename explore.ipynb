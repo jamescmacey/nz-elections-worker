{
 "cells": [
  {
   "cell_type": "code",
   "execution_count": 2,
   "metadata": {},
   "outputs": [],
   "source": [
    "from interface import get_electorate, get_electorate_voting_places, get_staticfile, get_votingplace\n",
    "from parsers.election import Election\n",
    "from parsers.votingplaces import VotingPlaces\n",
    "from parsers.candidates import Candidates\n",
    "from parsers.parties import Parties\n",
    "from parsers.electorates import Electorates\n",
    "from parsers.statistics import Statistics\n",
    "from parsers.electorate_result import ElectorateResult\n",
    "from parsers.voting_place_result import VotingPlaceResult\n",
    "from parsers.electorate_voting_places import ElectorateVotingPlaces"
   ]
  },
  {
   "cell_type": "code",
   "execution_count": 3,
   "metadata": {},
   "outputs": [
    {
     "name": "stdout",
     "output_type": "stream",
     "text": [
      "GET https://media.election.net.nz/electionresults_2023_preliminary/xml/candidates.xml\n",
      "GET https://media.election.net.nz/electionresults_2023_preliminary/xml/electorates.xml\n",
      "GET https://media.election.net.nz/electionresults_2023_preliminary/xml/votingplaces.xml\n",
      "GET https://media.election.net.nz/electionresults_2023_preliminary/xml/parties.xml\n",
      "GET https://media.election.net.nz/electionresults_2023_preliminary/xml/statistics.xml\n"
     ]
    }
   ],
   "source": [
    "# Get the reference files\n",
    "candidates = Candidates(get_staticfile(\"candidates\"))\n",
    "electorates = Electorates(get_staticfile(\"electorates\"))\n",
    "voting_places = VotingPlaces(get_staticfile(\"votingplaces\"))\n",
    "parties = Parties(get_staticfile(\"parties\"))\n",
    "statistics = Statistics(get_staticfile(\"statistics\"))"
   ]
  },
  {
   "cell_type": "code",
   "execution_count": 3,
   "metadata": {},
   "outputs": [
    {
     "name": "stdout",
     "output_type": "stream",
     "text": [
      "GET https://media.election.net.nz/electionresults_2023_preliminary/xml/election.xml\n",
      "GET https://media.election.net.nz/electionresults_2023_preliminary/xml/e03/e03.xml\n",
      "GET https://media.election.net.nz/electionresults_2023_preliminary/xml/e04/e04.xml\n",
      "GET https://media.election.net.nz/electionresults_2023_preliminary/xml/e06/e06.xml\n",
      "GET https://media.election.net.nz/electionresults_2023_preliminary/xml/e08/e08.xml\n",
      "GET https://media.election.net.nz/electionresults_2023_preliminary/xml/e10/e10.xml\n",
      "GET https://media.election.net.nz/electionresults_2023_preliminary/xml/e12/e12.xml\n",
      "GET https://media.election.net.nz/electionresults_2023_preliminary/xml/e18/e18.xml\n",
      "GET https://media.election.net.nz/electionresults_2023_preliminary/xml/e47/e47.xml\n",
      "GET https://media.election.net.nz/electionresults_2023_preliminary/xml/e01/e01.xml\n",
      "GET https://media.election.net.nz/electionresults_2023_preliminary/xml/e05/e05.xml\n",
      "GET https://media.election.net.nz/electionresults_2023_preliminary/xml/e46/e46.xml\n",
      "GET https://media.election.net.nz/electionresults_2023_preliminary/xml/e07/e07.xml\n",
      "GET https://media.election.net.nz/electionresults_2023_preliminary/xml/e09/e09.xml\n",
      "GET https://media.election.net.nz/electionresults_2023_preliminary/xml/e11/e11.xml\n",
      "GET https://media.election.net.nz/electionresults_2023_preliminary/xml/e13/e13.xml\n",
      "GET https://media.election.net.nz/electionresults_2023_preliminary/xml/e39/e39.xml\n",
      "GET https://media.election.net.nz/electionresults_2023_preliminary/xml/e14/e14.xml\n",
      "GET https://media.election.net.nz/electionresults_2023_preliminary/xml/e15/e15.xml\n",
      "GET https://media.election.net.nz/electionresults_2023_preliminary/xml/e16/e16.xml\n",
      "GET https://media.election.net.nz/electionresults_2023_preliminary/xml/e17/e17.xml\n",
      "GET https://media.election.net.nz/electionresults_2023_preliminary/xml/e66/e66.xml\n",
      "GET https://media.election.net.nz/electionresults_2023_preliminary/xml/e67/e67.xml\n",
      "GET https://media.election.net.nz/electionresults_2023_preliminary/xml/e68/e68.xml\n",
      "GET https://media.election.net.nz/electionresults_2023_preliminary/xml/e69/e69.xml\n",
      "GET https://media.election.net.nz/electionresults_2023_preliminary/xml/e70/e70.xml\n",
      "GET https://media.election.net.nz/electionresults_2023_preliminary/xml/e71/e71.xml\n",
      "GET https://media.election.net.nz/electionresults_2023_preliminary/xml/e72/e72.xml\n",
      "GET https://media.election.net.nz/electionresults_2023_preliminary/xml/e20/e20.xml\n",
      "GET https://media.election.net.nz/electionresults_2023_preliminary/xml/e21/e21.xml\n",
      "GET https://media.election.net.nz/electionresults_2023_preliminary/xml/e24/e24.xml\n",
      "GET https://media.election.net.nz/electionresults_2023_preliminary/xml/e26/e26.xml\n",
      "GET https://media.election.net.nz/electionresults_2023_preliminary/xml/e27/e27.xml\n",
      "GET https://media.election.net.nz/electionresults_2023_preliminary/xml/e28/e28.xml\n",
      "GET https://media.election.net.nz/electionresults_2023_preliminary/xml/e30/e30.xml\n",
      "GET https://media.election.net.nz/electionresults_2023_preliminary/xml/e31/e31.xml\n",
      "GET https://media.election.net.nz/electionresults_2023_preliminary/xml/e32/e32.xml\n",
      "GET https://media.election.net.nz/electionresults_2023_preliminary/xml/e33/e33.xml\n",
      "GET https://media.election.net.nz/electionresults_2023_preliminary/xml/e36/e36.xml\n",
      "GET https://media.election.net.nz/electionresults_2023_preliminary/xml/e40/e40.xml\n",
      "GET https://media.election.net.nz/electionresults_2023_preliminary/xml/e41/e41.xml\n",
      "GET https://media.election.net.nz/electionresults_2023_preliminary/xml/e43/e43.xml\n",
      "GET https://media.election.net.nz/electionresults_2023_preliminary/xml/e44/e44.xml\n",
      "GET https://media.election.net.nz/electionresults_2023_preliminary/xml/e45/e45.xml\n",
      "GET https://media.election.net.nz/electionresults_2023_preliminary/xml/e50/e50.xml\n",
      "GET https://media.election.net.nz/electionresults_2023_preliminary/xml/e51/e51.xml\n",
      "GET https://media.election.net.nz/electionresults_2023_preliminary/xml/e52/e52.xml\n",
      "GET https://media.election.net.nz/electionresults_2023_preliminary/xml/e54/e54.xml\n",
      "GET https://media.election.net.nz/electionresults_2023_preliminary/xml/e55/e55.xml\n",
      "GET https://media.election.net.nz/electionresults_2023_preliminary/xml/e56/e56.xml\n",
      "GET https://media.election.net.nz/electionresults_2023_preliminary/xml/e59/e59.xml\n",
      "GET https://media.election.net.nz/electionresults_2023_preliminary/xml/e61/e61.xml\n",
      "GET https://media.election.net.nz/electionresults_2023_preliminary/xml/e62/e62.xml\n",
      "GET https://media.election.net.nz/electionresults_2023_preliminary/xml/e48/e48.xml\n",
      "GET https://media.election.net.nz/electionresults_2023_preliminary/xml/e02/e02.xml\n",
      "GET https://media.election.net.nz/electionresults_2023_preliminary/xml/e19/e19.xml\n",
      "GET https://media.election.net.nz/electionresults_2023_preliminary/xml/e22/e22.xml\n",
      "GET https://media.election.net.nz/electionresults_2023_preliminary/xml/e23/e23.xml\n",
      "GET https://media.election.net.nz/electionresults_2023_preliminary/xml/e34/e34.xml\n",
      "GET https://media.election.net.nz/electionresults_2023_preliminary/xml/e35/e35.xml\n",
      "GET https://media.election.net.nz/electionresults_2023_preliminary/xml/e37/e37.xml\n",
      "GET https://media.election.net.nz/electionresults_2023_preliminary/xml/e29/e29.xml\n",
      "GET https://media.election.net.nz/electionresults_2023_preliminary/xml/e25/e25.xml\n",
      "GET https://media.election.net.nz/electionresults_2023_preliminary/xml/e42/e42.xml\n",
      "GET https://media.election.net.nz/electionresults_2023_preliminary/xml/e49/e49.xml\n",
      "GET https://media.election.net.nz/electionresults_2023_preliminary/xml/e53/e53.xml\n",
      "GET https://media.election.net.nz/electionresults_2023_preliminary/xml/e38/e38.xml\n",
      "GET https://media.election.net.nz/electionresults_2023_preliminary/xml/e57/e57.xml\n",
      "GET https://media.election.net.nz/electionresults_2023_preliminary/xml/e58/e58.xml\n",
      "GET https://media.election.net.nz/electionresults_2023_preliminary/xml/e60/e60.xml\n",
      "GET https://media.election.net.nz/electionresults_2023_preliminary/xml/e63/e63.xml\n",
      "GET https://media.election.net.nz/electionresults_2023_preliminary/xml/e64/e64.xml\n",
      "GET https://media.election.net.nz/electionresults_2023_preliminary/xml/e65/e65.xml\n"
     ]
    }
   ],
   "source": [
    "# Get the results\n",
    "election = Election(get_staticfile(\"election\"))\n",
    "electorate_results = [ElectorateResult(get_electorate(electorate.electorate_id)) for electorate in electorates]"
   ]
  },
  {
   "cell_type": "code",
   "execution_count": null,
   "metadata": {},
   "outputs": [],
   "source": [
    "# Voting place results\n",
    "voting_place_results = []\n",
    "for electorate in electorates:\n",
    "    for voting_place in ElectorateVotingPlaces(get_electorate_voting_places(electorate.electorate_id)):\n",
    "        voting_place_results.append(VotingPlaceResult(get_votingplace(voting_place.electorate_id, voting_place.physical_electorate_id, voting_place.voting_place_id)))\n"
   ]
  },
  {
   "cell_type": "code",
   "execution_count": 7,
   "metadata": {},
   "outputs": [],
   "source": [
    "# You can then run:\n",
    "# .results_set() on an election result\n",
    "# .results_sets() on an electorate or voting place result: this gives a list of two results sets (one for candidate, one for party)\n",
    "\n",
    "# Gives you the election-level results set\n",
    "election_results = election.results_set()\n",
    "\n",
    "# Gives you the electorate-level results sets as a list of lists\n",
    "electorate_results_sets = [x.results_sets() for x in electorate_results]\n",
    "\n",
    "# Gives you the voting-place-level results sets as a list of lists\n",
    "voting_place_results_sets = [x.results_sets() for x in voting_place_results]"
   ]
  }
 ],
 "metadata": {
  "kernelspec": {
   "display_name": "venv",
   "language": "python",
   "name": "python3"
  },
  "language_info": {
   "codemirror_mode": {
    "name": "ipython",
    "version": 3
   },
   "file_extension": ".py",
   "mimetype": "text/x-python",
   "name": "python",
   "nbconvert_exporter": "python",
   "pygments_lexer": "ipython3",
   "version": "3.10.2"
  }
 },
 "nbformat": 4,
 "nbformat_minor": 2
}
